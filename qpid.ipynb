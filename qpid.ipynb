{
 "cells": [
  {
   "cell_type": "code",
   "execution_count": null,
   "id": "52045a02",
   "metadata": {},
   "outputs": [],
   "source": [
    "! git clone \"https://github.come/nshepperd/gpt-2.git\""
   ]
  },
  {
   "cell_type": "code",
   "execution_count": null,
   "id": "ae7e6479",
   "metadata": {},
   "outputs": [],
   "source": [
    "pip3 install -r requirements.txt"
   ]
  },
  {
   "cell_type": "code",
   "execution_count": null,
   "id": "664026ba",
   "metadata": {},
   "outputs": [],
   "source": [
    "pip3 install -r gpt-2/requirements.txt"
   ]
  },
  {
   "cell_type": "code",
   "execution_count": null,
   "id": "e5db9dda",
   "metadata": {},
   "outputs": [],
   "source": [
    "! python3 gpt-2/download_model.py 117M"
   ]
  },
  {
   "cell_type": "code",
   "execution_count": null,
   "id": "4cf68651",
   "metadata": {},
   "outputs": [],
   "source": [
    "! pwd"
   ]
  },
  {
   "cell_type": "code",
   "execution_count": null,
   "id": "16bee916",
   "metadata": {},
   "outputs": [],
   "source": [
    "! PYTHONPATH=gpt-2/src ./gpt-2/encode.py night_text.txt data.npz"
   ]
  },
  {
   "cell_type": "code",
   "execution_count": null,
   "id": "98a0172b",
   "metadata": {},
   "outputs": [],
   "source": [
    "! PYTHONPATH=gpt-2/src ./gpt-2/train.py --dataset data.npz --model_name 117M --sample_every 500 --sample_num 2"
   ]
  },
  {
   "cell_type": "code",
   "execution_count": null,
   "id": "828ac9e3",
   "metadata": {},
   "outputs": [],
   "source": [
    "! python generate_unconditional_samples.py --model_name 117M"
   ]
  }
 ],
 "metadata": {
  "kernelspec": {
   "display_name": "Python 3",
   "language": "python",
   "name": "python3"
  },
  "language_info": {
   "codemirror_mode": {
    "name": "ipython",
    "version": 3
   },
   "file_extension": ".py",
   "mimetype": "text/x-python",
   "name": "python",
   "nbconvert_exporter": "python",
   "pygments_lexer": "ipython3",
   "version": "3.9.12"
  }
 },
 "nbformat": 4,
 "nbformat_minor": 5
}
